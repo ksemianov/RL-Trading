{
 "cells": [
  {
   "cell_type": "markdown",
   "metadata": {},
   "source": [
    "## TradingEnv with keras-rl\n",
    "\n",
    "### 'Gym' description\n",
    "\n",
    "This gym implements a very simple trading environment for reinforcement learning.\n",
    "\n",
    "The gym provides daily observations based on real market data pulled from Quandl on, by default, the SPY etf.  An episode is defined as 252 contiguous days sampled from the overall dataset.  Each day is one 'step' within the gym and for each step, the algo has a choice:\n",
    "\n",
    " - SHORT (0)\n",
    " - FLAT (1)\n",
    " - LONG  (2)\n",
    " \n",
    "If you trade, you will be charged, by default, 10 BPS of the size of your trade.  Thus, going from short to long costs twice as much as going from short to/from flat.  Not trading also has a default cost of 1 BPS per step.  Nobody said it would be easy!\n",
    " \n",
    "At the beginning of your episode, you are allocated 1 unit of cash.  This is your starting Net Asset Value (NAV). \n",
    "\n",
    "### keras-rl algos\n",
    "A number of RL-algos will be used:\n",
    "* Deep Q Learning (DQN)\n",
    "* Cross-Entropy Method (CEM)\n",
    "* Dueling Network DQN (DNDQN)\n",
    "* State-Action-Reward-State-Action (SARSA)"
   ]
  },
  {
   "cell_type": "markdown",
   "metadata": {},
   "source": [
    "### Imports"
   ]
  },
  {
   "cell_type": "code",
   "execution_count": 1,
   "metadata": {},
   "outputs": [
    {
     "name": "stderr",
     "output_type": "stream",
     "text": [
      "Using TensorFlow backend.\n"
     ]
    }
   ],
   "source": [
    "import numpy as np\n",
    "import gym\n",
    "import pandas as pd\n",
    "import seaborn as sns\n",
    "import matplotlib as mpl\n",
    "import matplotlib.pyplot as plt\n",
    "from matplotlib import interactive\n",
    "interactive(True)\n",
    "\n",
    "from keras.models import Sequential\n",
    "from keras.layers import Dense, Activation, Flatten, LSTM\n",
    "from keras.optimizers import Adam"
   ]
  },
  {
   "cell_type": "markdown",
   "metadata": {},
   "source": [
    "### Register Environment"
   ]
  },
  {
   "cell_type": "code",
   "execution_count": 2,
   "metadata": {},
   "outputs": [],
   "source": [
    "from gym.envs.registration import register\n",
    "ENV_NAME = 'trading-v0'\n",
    "register(\n",
    "    id=ENV_NAME,\n",
    "    entry_point='gym_trading.envs:TradingEnv',\n",
    "    timestep_limit=1000,\n",
    ")"
   ]
  },
  {
   "cell_type": "markdown",
   "metadata": {},
   "source": [
    "### Create the Environment\n",
    "\n",
    "This may take a moment as we are pulling historical data from quandl"
   ]
  },
  {
   "cell_type": "code",
   "execution_count": 3,
   "metadata": {},
   "outputs": [
    {
     "name": "stderr",
     "output_type": "stream",
     "text": [
      "[2017-06-23 16:29:11,778] Making new env: trading-v0\n"
     ]
    }
   ],
   "source": [
    "env = gym.make(ENV_NAME)\n",
    "np.random.seed(123)\n",
    "env.seed(123)\n",
    "nb_actions = env.action_space.n"
   ]
  },
  {
   "cell_type": "markdown",
   "metadata": {},
   "source": [
    "### Build simple multilayer model"
   ]
  },
  {
   "cell_type": "code",
   "execution_count": 4,
   "metadata": {},
   "outputs": [
    {
     "name": "stdout",
     "output_type": "stream",
     "text": [
      "_________________________________________________________________\n",
      "Layer (type)                 Output Shape              Param #   \n",
      "=================================================================\n",
      "flatten_1 (Flatten)          (None, 5)                 0         \n",
      "_________________________________________________________________\n",
      "dense_1 (Dense)              (None, 16)                96        \n",
      "_________________________________________________________________\n",
      "activation_1 (Activation)    (None, 16)                0         \n",
      "_________________________________________________________________\n",
      "dense_2 (Dense)              (None, 16)                272       \n",
      "_________________________________________________________________\n",
      "activation_2 (Activation)    (None, 16)                0         \n",
      "_________________________________________________________________\n",
      "dense_3 (Dense)              (None, 16)                272       \n",
      "_________________________________________________________________\n",
      "activation_3 (Activation)    (None, 16)                0         \n",
      "_________________________________________________________________\n",
      "dense_4 (Dense)              (None, 3)                 51        \n",
      "_________________________________________________________________\n",
      "activation_4 (Activation)    (None, 3)                 0         \n",
      "=================================================================\n",
      "Total params: 691\n",
      "Trainable params: 691\n",
      "Non-trainable params: 0\n",
      "_________________________________________________________________\n",
      "None\n"
     ]
    }
   ],
   "source": [
    "model = Sequential()\n",
    "model.add(Flatten(input_shape=(1,) + env.observation_space.shape))\n",
    "model.add(Dense(16))\n",
    "model.add(Activation('relu'))\n",
    "model.add(Dense(16))\n",
    "model.add(Activation('relu'))\n",
    "model.add(Dense(16))\n",
    "model.add(Activation('relu'))\n",
    "model.add(Dense(nb_actions))\n",
    "model.add(Activation('linear'))\n",
    "print(model.summary())"
   ]
  },
  {
   "cell_type": "markdown",
   "metadata": {},
   "source": [
    "### Compile the chosen agent"
   ]
  },
  {
   "cell_type": "code",
   "execution_count": 5,
   "metadata": {},
   "outputs": [],
   "source": [
    "def CompileAgent(algo):\n",
    "    if (algo == 'DQN'):\n",
    "        from rl.agents.dqn import DQNAgent\n",
    "        from rl.policy import BoltzmannQPolicy\n",
    "        from rl.memory import SequentialMemory\n",
    "        \n",
    "        memory = SequentialMemory(limit=50000, window_length=1)\n",
    "        policy = BoltzmannQPolicy()\n",
    "        dqn = DQNAgent(model=model, nb_actions=nb_actions, memory=memory, nb_steps_warmup=10,\n",
    "               target_model_update=1e-2, policy=policy)\n",
    "        dqn.compile(Adam(lr=1e-3), metrics=['mae'])\n",
    "        \n",
    "        return dqn\n",
    "    elif (algo == 'CEM'):\n",
    "        from rl.agents.cem import CEMAgent\n",
    "        from rl.memory import EpisodeParameterMemory\n",
    "        \n",
    "        memory = EpisodeParameterMemory(limit=1000, window_length=1)\n",
    "        cem = CEMAgent(model=model, nb_actions=nb_actions, memory=memory,\n",
    "                       batch_size=50, nb_steps_warmup=2000, train_interval=50, elite_frac=0.05)\n",
    "        cem.compile()\n",
    "        \n",
    "        return cem\n",
    "    elif (algo == 'DNDQN'):\n",
    "        from rl.agents.dqn import DQNAgent\n",
    "        from rl.policy import BoltzmannQPolicy\n",
    "        from rl.memory import SequentialMemory\n",
    "        \n",
    "        memory = SequentialMemory(limit=50000, window_length=1)\n",
    "        policy = BoltzmannQPolicy()\n",
    "        # enable the dueling network\n",
    "        # you can specify the dueling_type to one of {'avg','max','naive'}\n",
    "        dqn = DQNAgent(model=model, nb_actions=nb_actions, memory=memory, nb_steps_warmup=10,\n",
    "                       enable_dueling_network=True, dueling_type='avg', target_model_update=1e-2, policy=policy)\n",
    "        dqn.compile(Adam(lr=1e-3), metrics=['mae'])\n",
    "        \n",
    "        return dqn\n",
    "    elif (algo == 'SARSA'):\n",
    "        from rl.agents import SARSAAgent\n",
    "        from rl.policy import BoltzmannQPolicy\n",
    "\n",
    "        # SARSA does not require a memory.\n",
    "        policy = BoltzmannQPolicy()\n",
    "        sarsa = SARSAAgent(model=model, nb_actions=nb_actions, nb_steps_warmup=10, policy=policy)\n",
    "        sarsa.compile(Adam(lr=1e-3), metrics=['mae'])\n",
    "        \n",
    "        return sarsa\n",
    "    else:\n",
    "        raise NameError('Unknown RL algorithm')"
   ]
  },
  {
   "cell_type": "markdown",
   "metadata": {},
   "source": [
    "###  Perform training and Test\n",
    "Calculate final net asset values for episodes of 252 days with Monte-Carlo procedure for 100 simulations"
   ]
  },
  {
   "cell_type": "code",
   "execution_count": 6,
   "metadata": {},
   "outputs": [],
   "source": [
    "stayflat     = lambda o,e: 1   # stand pat\n",
    "buyandhold   = lambda o,e: 2   # buy on day #1 and hold\n",
    "randomtrader = lambda o,e: e.action_space.sample() # retail trader\n",
    "\n",
    "nSimulations = 100\n",
    "df1 = env.unwrapped.run_strats(stayflat, nSimulations).bod_nav.values[range(251, 252*nSimulations, 252)]\n",
    "df2 = env.unwrapped.run_strats(buyandhold, nSimulations).bod_nav.values[range(251, 252*nSimulations, 252)]\n",
    "df3 = env.unwrapped.run_strats(randomtrader, nSimulations).bod_nav.values[range(251, 252*nSimulations, 252)]\n",
    "\n",
    "df_all = pd.DataFrame({'Inactive': df1,'Buy&Hold': df2,'Random': df3})"
   ]
  },
  {
   "cell_type": "code",
   "execution_count": 7,
   "metadata": {},
   "outputs": [
    {
     "name": "stderr",
     "output_type": "stream",
     "text": [
      "/home/lemon/coursework/keras-rl/rl/memory.py:29: UserWarning: Not enough entries to sample without replacement. Consider increasing your warm-up phase to avoid oversampling!\n",
      "  warnings.warn('Not enough entries to sample without replacement. Consider increasing your warm-up phase to avoid oversampling!')\n"
     ]
    },
    {
     "name": "stdout",
     "output_type": "stream",
     "text": [
      "Done algo DQN\n"
     ]
    },
    {
     "name": "stderr",
     "output_type": "stream",
     "text": [
      "/home/lemon/coursework/keras-rl/rl/agents/cem.py:94: RuntimeWarning: overflow encountered in exp\n",
      "  return np.random.choice(np.arange(self.nb_actions), p=np.exp(action) / np.sum(np.exp(action)))\n",
      "/home/lemon/coursework/keras-rl/rl/agents/cem.py:94: RuntimeWarning: invalid value encountered in true_divide\n",
      "  return np.random.choice(np.arange(self.nb_actions), p=np.exp(action) / np.sum(np.exp(action)))\n",
      "/home/lemon/coursework/keras-rl/rl/agents/cem.py:94: RuntimeWarning: invalid value encountered in less\n",
      "  return np.random.choice(np.arange(self.nb_actions), p=np.exp(action) / np.sum(np.exp(action)))\n"
     ]
    },
    {
     "name": "stdout",
     "output_type": "stream",
     "text": [
      "Done algo CEM\n",
      "Done algo DNDQN\n",
      "Done algo SARSA\n"
     ]
    }
   ],
   "source": [
    "ALGO_NAMES = ['DQN', 'CEM', 'DNDQN', 'SARSA']\n",
    "for algo in ALGO_NAMES:\n",
    "    agent = CompileAgent(algo)\n",
    "    agent.fit(env, nb_steps=10000, visualize=False, verbose=False)\n",
    "    rl_agent     = lambda o,e: agent.forward(observation=o)\n",
    "    df_new = env.unwrapped.run_strats(rl_agent, nSimulations).bod_nav.values[range(251, 252*nSimulations, 252)]\n",
    "    df_all[algo] = df_new\n",
    "    print('Done algo {}'.format(algo))"
   ]
  },
  {
   "cell_type": "markdown",
   "metadata": {},
   "source": [
    "### Plot"
   ]
  },
  {
   "cell_type": "code",
   "execution_count": 8,
   "metadata": {},
   "outputs": [
    {
     "data": {
      "text/plain": [
       "<matplotlib.axes._subplots.AxesSubplot at 0x7fad73840910>"
      ]
     },
     "execution_count": 8,
     "metadata": {},
     "output_type": "execute_result"
    },
    {
     "data": {
      "image/png": "[encoded data removed]",
      "text/plain": [
       "<matplotlib.figure.Figure at 0x7fad7bc22450>"
      ]
     },
     "metadata": {},
     "output_type": "display_data"
    }
   ],
   "source": [
    "sns.violinplot(data=df_all)"
   ]
  }
 ],
 "metadata": {
  "kernelspec": {
   "display_name": "Python 2",
   "language": "python",
   "name": "python2"
  },
  "language_info": {
   "codemirror_mode": {
    "name": "ipython",
    "version": 2
   },
   "file_extension": ".py",
   "mimetype": "text/x-python",
   "name": "python",
   "nbconvert_exporter": "python",
   "pygments_lexer": "ipython2",
   "version": "2.7.12"
  }
 },
 "nbformat": 4,
 "nbformat_minor": 2
}
