{
 "cells": [
  {
   "cell_type": "markdown",
   "metadata": {},
   "source": [
    "## TradingEnv with keras-rl\n",
    "\n",
    "### 'Gym' description\n",
    "\n",
    "This gym implements a very simple trading environment for reinforcement learning.\n",
    "\n",
    "The gym provides daily observations based on real market data pulled from Quandl on, by default, the SPY etf.  An episode is defined as 252 contiguous days sampled from the overall dataset.  Each day is one 'step' within the gym and for each step, the algo has a choice:\n",
    "\n",
    " - SHORT (0)\n",
    " - FLAT (1)\n",
    " - LONG  (2)\n",
    " \n",
    "If you trade, you will be charged, by default, 10 BPS of the size of your trade.  Thus, going from short to long costs twice as much as going from short to/from flat.  Not trading also has a default cost of 1 BPS per step.  Nobody said it would be easy!\n",
    " \n",
    "At the beginning of your episode, you are allocated 1 unit of cash.  This is your starting Net Asset Value (NAV). \n",
    "\n",
    "### keras-rl algos\n",
    "A number of RL-algos will be used:\n",
    "* Deep Q Learning (DQN)\n",
    "* Cross-Entropy Method (CEM)\n",
    "* Dueling Network DQN (DNDQN)\n",
    "* State-Action-Reward-State-Action (SARSA)"
   ]
  },
  {
   "cell_type": "markdown",
   "metadata": {},
   "source": [
    "### Imports"
   ]
  },
  {
   "cell_type": "code",
   "execution_count": 1,
   "metadata": {},
   "outputs": [
    {
     "name": "stderr",
     "output_type": "stream",
     "text": [
      "Using TensorFlow backend.\n"
     ]
    }
   ],
   "source": [
    "import numpy as np\n",
    "import gym\n",
    "import pandas as pd\n",
    "import seaborn as sns\n",
    "import matplotlib as mpl\n",
    "import matplotlib.pyplot as plt\n",
    "from matplotlib import interactive\n",
    "interactive(True)\n",
    "\n",
    "from keras.models import Sequential\n",
    "from keras.layers import Dense, Activation, Flatten, LSTM\n",
    "from keras.optimizers import Adam\n",
    "from keras.callbacks import History"
   ]
  },
  {
   "cell_type": "markdown",
   "metadata": {},
   "source": [
    "### Register Environment"
   ]
  },
  {
   "cell_type": "code",
   "execution_count": 2,
   "metadata": {},
   "outputs": [],
   "source": [
    "from gym.envs.registration import register\n",
    "ENV_NAME = 'trading-v0'\n",
    "register(\n",
    "    id=ENV_NAME,\n",
    "    entry_point='gym_trading.envs:TradingEnv',\n",
    "    timestep_limit=1000,\n",
    ")"
   ]
  },
  {
   "cell_type": "markdown",
   "metadata": {},
   "source": [
    "### Create the Environment\n",
    "\n",
    "This may take a moment as we are pulling historical data from quandl"
   ]
  },
  {
   "cell_type": "code",
   "execution_count": 3,
   "metadata": {},
   "outputs": [
    {
     "name": "stderr",
     "output_type": "stream",
     "text": [
      "[2017-06-25 18:00:34,834] Making new env: trading-v0\n"
     ]
    }
   ],
   "source": [
    "env = gym.make(ENV_NAME)\n",
    "np.random.seed(123)\n",
    "env.seed(123)\n",
    "nb_actions = env.action_space.n"
   ]
  },
  {
   "cell_type": "markdown",
   "metadata": {},
   "source": [
    "### Build simple multilayer model"
   ]
  },
  {
   "cell_type": "code",
   "execution_count": 4,
   "metadata": {},
   "outputs": [
    {
     "name": "stdout",
     "output_type": "stream",
     "text": [
      "_________________________________________________________________\n",
      "Layer (type)                 Output Shape              Param #   \n",
      "=================================================================\n",
      "flatten_1 (Flatten)          (None, 5)                 0         \n",
      "_________________________________________________________________\n",
      "dense_1 (Dense)              (None, 16)                96        \n",
      "_________________________________________________________________\n",
      "activation_1 (Activation)    (None, 16)                0         \n",
      "_________________________________________________________________\n",
      "dense_2 (Dense)              (None, 16)                272       \n",
      "_________________________________________________________________\n",
      "activation_2 (Activation)    (None, 16)                0         \n",
      "_________________________________________________________________\n",
      "dense_3 (Dense)              (None, 16)                272       \n",
      "_________________________________________________________________\n",
      "activation_3 (Activation)    (None, 16)                0         \n",
      "_________________________________________________________________\n",
      "dense_4 (Dense)              (None, 3)                 51        \n",
      "_________________________________________________________________\n",
      "activation_4 (Activation)    (None, 3)                 0         \n",
      "=================================================================\n",
      "Total params: 691\n",
      "Trainable params: 691\n",
      "Non-trainable params: 0\n",
      "_________________________________________________________________\n",
      "None\n"
     ]
    }
   ],
   "source": [
    "from keras.utils import plot_model\n",
    "\n",
    "model = Sequential()\n",
    "model.add(Flatten(input_shape=(1,) + env.observation_space.shape))\n",
    "model.add(Dense(16))\n",
    "model.add(Activation('elu'))\n",
    "model.add(Dense(16))\n",
    "model.add(Activation('elu'))\n",
    "model.add(Dense(16))\n",
    "model.add(Activation('elu'))\n",
    "model.add(Dense(nb_actions))\n",
    "model.add(Activation('softmax'))\n",
    "print(model.summary())\n",
    "plot_model(model, to_file='model.png', show_layer_names=False, show_shapes=True)"
   ]
  },
  {
   "cell_type": "markdown",
   "metadata": {},
   "source": [
    "### Compile the chosen agent"
   ]
  },
  {
   "cell_type": "code",
   "execution_count": 5,
   "metadata": {
    "collapsed": true
   },
   "outputs": [],
   "source": [
    "from rl.policy import GreedyQPolicy\n",
    "from rl.agents.dqn import DQNAgent\n",
    "from rl.policy import BoltzmannQPolicy\n",
    "from rl.memory import SequentialMemory\n",
    "from rl.agents.cem import CEMAgent\n",
    "from rl.memory import EpisodeParameterMemory\n",
    "from rl.agents import SARSAAgent\n",
    "from rl.policy import BoltzmannQPolicy\n",
    "from rl.policy import EpsGreedyQPolicy\n",
    "\n",
    "NB_STEPS_WARMUP = 1000\n",
    "MEM_LIMIT = 100\n",
    "LR = 1e-4\n",
    "TARGET_MODEL_UPDATE = 1e-3\n",
    "WINDOW_LENGTH = 1\n",
    "\n",
    "def CompileAgent(algo):\n",
    "    if (algo == 'DQN'):\n",
    "        memory = SequentialMemory(limit=MEM_LIMIT, window_length=WINDOW_LENGTH)\n",
    "        policy = BoltzmannQPolicy()\n",
    "        test_policy = GreedyQPolicy()\n",
    "        dqn = DQNAgent(model=model, nb_actions=nb_actions, memory=memory, nb_steps_warmup=NB_STEPS_WARMUP,\n",
    "               target_model_update=TARGET_MODEL_UPDATE, policy=policy, test_policy = GreedyQPolicy())\n",
    "        dqn.compile(Adam(lr=LR), metrics=['mae'])\n",
    "        \n",
    "        return dqn\n",
    "    elif (algo == 'CEM'):\n",
    "        memory = EpisodeParameterMemory(limit=MEM_LIMIT, window_length=WINDOW_LENGTH)\n",
    "        cem = CEMAgent(model=model, nb_actions=nb_actions, memory=memory,\n",
    "                       batch_size=10, nb_steps_warmup=NB_STEPS_WARMUP, train_interval=10,\n",
    "                       elite_frac=0.20, noise_decay_const=0.1, noise_ampl=1.0)\n",
    "        cem.compile()\n",
    "        \n",
    "        return cem\n",
    "    elif (algo == 'DNDQN'):\n",
    "        memory = SequentialMemory(limit=MEM_LIMIT, window_length=WINDOW_LENGTH)\n",
    "        policy = BoltzmannQPolicy()\n",
    "        test_policy = GreedyQPolicy()\n",
    "        # enable the dueling network\n",
    "        # you can specify the dueling_type to one of {'avg','max','naive'}\n",
    "        dqn = DQNAgent(model=model, nb_actions=nb_actions, memory=memory, nb_steps_warmup=NB_STEPS_WARMUP,\n",
    "                       enable_dueling_network=True, dueling_type='avg', target_model_update=TARGET_MODEL_UPDATE,\n",
    "                       policy=policy, test_policy = GreedyQPolicy())\n",
    "        dqn.compile(Adam(lr=LR), metrics=['mae'])\n",
    "        \n",
    "        return dqn\n",
    "    elif (algo == 'SARSA'):\n",
    "        # SARSA does not require a memory.\n",
    "        policy = BoltzmannQPolicy()\n",
    "        test_policy = GreedyQPolicy()\n",
    "        sarsa = SARSAAgent(model=model, nb_actions=nb_actions, nb_steps_warmup=WINDOW_LENGTH,\n",
    "                           policy=policy, test_policy = GreedyQPolicy())\n",
    "        sarsa.compile(Adam(lr=LR), metrics=['mae'])\n",
    "        \n",
    "        return sarsa\n",
    "    else:\n",
    "        raise NameError('Unknown RL algorithm')"
   ]
  },
  {
   "cell_type": "markdown",
   "metadata": {},
   "source": [
    "###  Perform training and Test\n",
    "Calculate final net asset values for episodes of 252 days with Monte-Carlo procedure for 1000 simulations. Each agent will be retrained 10 times.  It will take about 2 hours for this operation."
   ]
  },
  {
   "cell_type": "code",
   "execution_count": 6,
   "metadata": {
    "collapsed": true
   },
   "outputs": [],
   "source": [
    "def testStrategies(nSimulations = 100):\n",
    "    sellandhold  = lambda o,e: 0   # buy on day #1 and hold\n",
    "    stayflat     = lambda o,e: 1   # stand pat\n",
    "    buyandhold   = lambda o,e: 2   # buy on day #1 and hold\n",
    "    randomtrader = lambda o,e: e.action_space.sample() # retail trader\n",
    "    \n",
    "    df1 = env.unwrapped.run_strats(sellandhold, nSimulations).bod_nav.values[range(251, 252*nSimulations, 252)] - 1\n",
    "    df2 = env.unwrapped.run_strats(stayflat, nSimulations).bod_nav.values[range(251, 252*nSimulations, 252)] - 1\n",
    "    df3 = env.unwrapped.run_strats(buyandhold, nSimulations).bod_nav.values[range(251, 252*nSimulations, 252)] - 1\n",
    "    df4 = env.unwrapped.run_strats(randomtrader, nSimulations).bod_nav.values[range(251, 252*nSimulations, 252)] - 1\n",
    "\n",
    "    df_all = pd.DataFrame({'Sell&Hold': df1,'Inactive': df2,'Buy&Hold': df3,'Random': df4})\n",
    "    ALGO_NAMES = ['DQN', 'CEM', 'DNDQN', 'SARSA']\n",
    "    for algo in ALGO_NAMES:\n",
    "        agent = CompileAgent(algo)\n",
    "        agent.fit(env, nb_steps=10000, visualize=False, verbose=False)\n",
    "        agent.training = False\n",
    "        history = History()\n",
    "        agent.test(env ,nb_episodes=nSimulations, callbacks=[history], verbose=False)\n",
    "        df_new = history.history.values()[0]\n",
    "        df_all[algo] = df_new\n",
    "        print('Done algo {}'.format(algo))\n",
    "    \n",
    "    return df_all"
   ]
  },
  {
   "cell_type": "code",
   "execution_count": 7,
   "metadata": {},
   "outputs": [
    {
     "name": "stdout",
     "output_type": "stream",
     "text": [
      "Done algo DQN\n",
      "Done algo CEM\n",
      "Done algo DNDQN\n",
      "Done algo SARSA\n"
     ]
    }
   ],
   "source": [
    "df_meta = testStrategies()"
   ]
  },
  {
   "cell_type": "code",
   "execution_count": 8,
   "metadata": {},
   "outputs": [
    {
     "name": "stdout",
     "output_type": "stream",
     "text": [
      "Step 1\n",
      "Done algo DQN\n",
      "Done algo CEM\n",
      "Done algo DNDQN\n",
      "Done algo SARSA\n",
      "Step 2\n",
      "Done algo DQN\n",
      "Done algo CEM\n",
      "Done algo DNDQN\n",
      "Done algo SARSA\n",
      "Step 3\n",
      "Done algo DQN\n",
      "Done algo CEM\n",
      "Done algo DNDQN\n",
      "Done algo SARSA\n",
      "Step 4\n",
      "Done algo DQN\n",
      "Done algo CEM\n",
      "Done algo DNDQN\n",
      "Done algo SARSA\n",
      "Step 5\n",
      "Done algo DQN\n",
      "Done algo CEM\n",
      "Done algo DNDQN\n",
      "Done algo SARSA\n",
      "Step 6\n",
      "Done algo DQN\n",
      "Done algo CEM\n",
      "Done algo DNDQN\n",
      "Done algo SARSA\n",
      "Step 7\n",
      "Done algo DQN\n",
      "Done algo CEM\n",
      "Done algo DNDQN\n",
      "Done algo SARSA\n",
      "Step 8\n",
      "Done algo DQN\n",
      "Done algo CEM\n",
      "Done algo DNDQN\n",
      "Done algo SARSA\n",
      "Step 9\n",
      "Done algo DQN\n",
      "Done algo CEM\n",
      "Done algo DNDQN\n",
      "Done algo SARSA\n",
      "Step 10\n",
      "Done algo DQN\n",
      "Done algo CEM\n",
      "Done algo DNDQN\n",
      "Done algo SARSA\n"
     ]
    }
   ],
   "source": [
    "for i in xrange(10):\n",
    "    print('Step ' + str(i + 1))\n",
    "    df_new = testStrategies()\n",
    "    df_meta = pd.concat([df_meta, df_new], axis=0)"
   ]
  },
  {
   "cell_type": "markdown",
   "metadata": {},
   "source": [
    "### Plot"
   ]
  },
  {
   "cell_type": "code",
   "execution_count": 9,
   "metadata": {},
   "outputs": [
    {
     "data": {
      "image/png": "[encoded data removed]",
      "text/plain": [
       "<matplotlib.figure.Figure at 0x7ffb48b50950>"
      ]
     },
     "metadata": {},
     "output_type": "display_data"
    }
   ],
   "source": [
    "fig = plt.figure()\n",
    "ax = plt.axes()\n",
    "sns.violinplot(data=df_meta*100, ax=ax)\n",
    "ax.set_xlabel('Algorithm')\n",
    "ax.set_ylabel('Return over 252 trading days, %')\n",
    "plt.show()\n",
    "fig.savefig('violin.png')"
   ]
  }
 ],
 "metadata": {
  "kernelspec": {
   "display_name": "Python 2",
   "language": "python",
   "name": "python2"
  },
  "language_info": {
   "codemirror_mode": {
    "name": "ipython",
    "version": 2
   },
   "file_extension": ".py",
   "mimetype": "text/x-python",
   "name": "python",
   "nbconvert_exporter": "python",
   "pygments_lexer": "ipython2",
   "version": "2.7.12"
  }
 },
 "nbformat": 4,
 "nbformat_minor": 2
}
